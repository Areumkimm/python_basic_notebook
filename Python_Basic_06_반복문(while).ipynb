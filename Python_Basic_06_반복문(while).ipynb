{
 "cells": [
  {
   "cell_type": "markdown",
   "id": "40878c83",
   "metadata": {},
   "source": [
    "## 반복문(while)\n",
    "- 반복횟수가 정해져 있지 않은 경우 사용\n",
    "- 조건이 True 이면 계속 반복하여 실행\n",
    "- 조건이 False 이면 반복 종료\n",
    "- while 반복문은 \"무한 loop(데드락)\" 조심 -> 다음 코드로 못 넘어감\n",
    "- \"무한 loop\" 사용 할 경우 반드시 break문 함께 사용!\n",
    "\n",
    "```python\n",
    "# while 기본 문법\n",
    "while 조건:\n",
    "    실행문\n",
    "```\n"
   ]
  },
  {
   "cell_type": "code",
   "execution_count": null,
   "id": "e084f249",
   "metadata": {},
   "outputs": [],
   "source": [
    "# 사용자가 0~100점 사이의 값을 입력\n",
    "\n",
    "\n",
    "while True:\n",
    "    \n",
    "    score = int(input(\"점수 : \"))\n",
    "\n",
    "    if score >= 0 and score <=100:\n",
    "        break\n",
    "    else:\n",
    "        print(\"0~100 값을 입력하세요.\")"
   ]
  },
  {
   "cell_type": "code",
   "execution_count": null,
   "id": "b73213da",
   "metadata": {},
   "outputs": [],
   "source": [
    "# 1~100의 값의 총합\n",
    "\n",
    "total = 0\n",
    "\n",
    "for i in range(1,101):\n",
    "    total+=i\n",
    "print(f\"총합 : {total}\")    \n",
    "\n",
    "\n",
    "    "
   ]
  },
  {
   "cell_type": "code",
   "execution_count": null,
   "id": "d341e3ef",
   "metadata": {},
   "outputs": [],
   "source": [
    "total = 0\n",
    "i = 1\n",
    "\n",
    "while True:\n",
    "    total += i\n",
    "    i += 1\n",
    "    \n",
    "    if i == 101:\n",
    "        break;\n",
    "        \n",
    "print(f\"총합 : {total}\")"
   ]
  }
 ],
 "metadata": {
  "kernelspec": {
   "display_name": "Python 3 (ipykernel)",
   "language": "python",
   "name": "python3"
  },
  "language_info": {
   "codemirror_mode": {
    "name": "ipython",
    "version": 3
   },
   "file_extension": ".py",
   "mimetype": "text/x-python",
   "name": "python",
   "nbconvert_exporter": "python",
   "pygments_lexer": "ipython3",
   "version": "3.9.7"
  }
 },
 "nbformat": 4,
 "nbformat_minor": 5
}
