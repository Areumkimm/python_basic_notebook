{
 "cells": [
  {
   "cell_type": "markdown",
   "id": "cff6b25e",
   "metadata": {},
   "source": [
    "# 3."
   ]
  },
  {
   "cell_type": "code",
   "execution_count": 1,
   "id": "6a1aef89",
   "metadata": {},
   "outputs": [
    {
     "name": "stdout",
     "output_type": "stream",
     "text": [
      "['881120', '1068234']\n"
     ]
    }
   ],
   "source": [
    "a = \"881120-1068234\"\n",
    "\n",
    "print(a.split(\"-\"))\n",
    "\n",
    "# split 함수를 사용해서 \"-\"를 기준으로 나눈다.\n",
    "# 문자열 a가 '-'를 기준으로 분할되어 리스트로 바뀐다.\n",
    "\n"
   ]
  },
  {
   "cell_type": "markdown",
   "id": "b0fb54d6",
   "metadata": {},
   "source": [
    "# 6."
   ]
  },
  {
   "cell_type": "code",
   "execution_count": 37,
   "id": "680765b9",
   "metadata": {},
   "outputs": [
    {
     "name": "stdout",
     "output_type": "stream",
     "text": [
      "[5, 4, 3, 2, 1]\n"
     ]
    }
   ],
   "source": [
    "list_a = [1,3,5,4,2]\n",
    "\n",
    "list_a.sort(reverse=True)\n",
    "\n",
    "print(list_a)\n",
    "\n",
    "# list.sort(reverse=True)\n",
    "# 리스트가 내림차순으로 정렬\n",
    "\n",
    "# list.sort(reverse=False)\n",
    "# 리스트가 오름차순으로 정렬\n",
    "\n",
    "# reverse=True 매개변수가 sort에 전달"
   ]
  },
  {
   "cell_type": "markdown",
   "id": "ae04dbec",
   "metadata": {},
   "source": [
    "## 9."
   ]
  },
  {
   "cell_type": "code",
   "execution_count": 53,
   "id": "0ad6c443",
   "metadata": {},
   "outputs": [
    {
     "ename": "TypeError",
     "evalue": "unhashable type: 'list'",
     "output_type": "error",
     "traceback": [
      "\u001b[1;31m---------------------------------------------------------------------------\u001b[0m",
      "\u001b[1;31mTypeError\u001b[0m                                 Traceback (most recent call last)",
      "\u001b[1;32m~\\AppData\\Local\\Temp\\ipykernel_896\\3536320029.py\u001b[0m in \u001b[0;36m<module>\u001b[1;34m\u001b[0m\n\u001b[0;32m      4\u001b[0m \u001b[1;31m# 딕셔너리 타입은 {} 중괄호\u001b[0m\u001b[1;33m\u001b[0m\u001b[1;33m\u001b[0m\u001b[0m\n\u001b[0;32m      5\u001b[0m \u001b[1;33m\u001b[0m\u001b[0m\n\u001b[1;32m----> 6\u001b[1;33m \u001b[0ma\u001b[0m\u001b[1;33m[\u001b[0m\u001b[1;33m[\u001b[0m\u001b[1;36m1\u001b[0m\u001b[1;33m]\u001b[0m\u001b[1;33m]\u001b[0m \u001b[1;33m=\u001b[0m \u001b[1;34m'python'\u001b[0m\u001b[1;33m\u001b[0m\u001b[1;33m\u001b[0m\u001b[0m\n\u001b[0m\u001b[0;32m      7\u001b[0m \u001b[1;33m\u001b[0m\u001b[0m\n\u001b[0;32m      8\u001b[0m \u001b[1;31m# 딕셔너리  키 오류\u001b[0m\u001b[1;33m\u001b[0m\u001b[1;33m\u001b[0m\u001b[0m\n",
      "\u001b[1;31mTypeError\u001b[0m: unhashable type: 'list'"
     ]
    }
   ],
   "source": [
    "a = dict()\n",
    "a \n",
    "\n",
    "# 딕셔너리 타입은 {} 중괄호\n",
    "\n",
    "a[[1]] = 'python'\n",
    "\n",
    "# 딕셔너리  키 오류\n",
    "\n",
    "#딕셔너리의 key는 변경이 불가능한 자료형(정수, 실수, 문자형)이어야 한다.\n",
    "#하지만 위의 코드에서는 변하는 값인 리스트[1]을 키로 사용하고 있기 때문에 오류난다.\n",
    "\n"
   ]
  },
  {
   "cell_type": "code",
   "execution_count": 42,
   "id": "93a6d96e",
   "metadata": {},
   "outputs": [],
   "source": [
    "a['name'] = 'python'"
   ]
  },
  {
   "cell_type": "markdown",
   "id": "c25f866f",
   "metadata": {},
   "source": [
    "# 12."
   ]
  },
  {
   "cell_type": "code",
   "execution_count": 22,
   "id": "511f0e19",
   "metadata": {},
   "outputs": [
    {
     "name": "stdout",
     "output_type": "stream",
     "text": [
      "[1, 4, 3]\n"
     ]
    }
   ],
   "source": [
    "a = b =[1,2,3]\n",
    "a[1] = 4\n",
    "print(b)\n",
    "\n",
    "# a와 b는 같은 list를 참조하기 때문에 a를 바꾸면 b에도 적용된다.\n",
    "# list의 두번째 값을 4로 바꾸었기 때문이다.\n"
   ]
  }
 ],
 "metadata": {
  "kernelspec": {
   "display_name": "Python 3 (ipykernel)",
   "language": "python",
   "name": "python3"
  },
  "language_info": {
   "codemirror_mode": {
    "name": "ipython",
    "version": 3
   },
   "file_extension": ".py",
   "mimetype": "text/x-python",
   "name": "python",
   "nbconvert_exporter": "python",
   "pygments_lexer": "ipython3",
   "version": "3.9.13"
  }
 },
 "nbformat": 4,
 "nbformat_minor": 5
}
