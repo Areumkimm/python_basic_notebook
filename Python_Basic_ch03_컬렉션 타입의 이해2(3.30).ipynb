{
 "cells": [
  {
   "cell_type": "code",
   "execution_count": 3,
   "id": "026273fe",
   "metadata": {},
   "outputs": [
    {
     "name": "stdout",
     "output_type": "stream",
     "text": [
      "[1, 2, 3, 4, 5, 6]\n"
     ]
    }
   ],
   "source": [
    "a = [1,2,3]\n",
    "b = [4,5,6]\n",
    "\n",
    "# a. extend(b)\n",
    "\n",
    "a += b    # a = a + b\n",
    "print(a)"
   ]
  },
  {
   "cell_type": "code",
   "execution_count": 4,
   "id": "9fdd2aeb",
   "metadata": {},
   "outputs": [
    {
     "name": "stdout",
     "output_type": "stream",
     "text": [
      "[1, 3]\n"
     ]
    }
   ],
   "source": [
    "#remove() : 값을 통해서 삭제(인덱스 x)\n",
    "a = [1,2,3]\n",
    "a.remove(2)\n",
    "print(a)\n",
    "\n"
   ]
  },
  {
   "cell_type": "code",
   "execution_count": 5,
   "id": "6cfd1502",
   "metadata": {},
   "outputs": [
    {
     "name": "stdout",
     "output_type": "stream",
     "text": [
      "[4, 5]\n",
      "6\n"
     ]
    }
   ],
   "source": [
    "#pop() : 인덱스를 통해서 삭제(+삭제 전 값을 변수에 저장 가능)\n",
    "a=[4,5,6]\n",
    "# a.pop(1)\n",
    "\n",
    "b= a.pop(2)\n",
    "\n",
    "print(a)\n",
    "print(b)\n",
    "    "
   ]
  },
  {
   "cell_type": "code",
   "execution_count": 6,
   "id": "922bc923",
   "metadata": {},
   "outputs": [
    {
     "name": "stdout",
     "output_type": "stream",
     "text": [
      "2\n"
     ]
    }
   ],
   "source": [
    "#index() : 찾고자 하는 값의 인덱스 번호 출력\n",
    "a=[8, 10, 20, 5, 3]\n",
    "print(a.index(20))\n"
   ]
  },
  {
   "cell_type": "code",
   "execution_count": 10,
   "id": "d8437129",
   "metadata": {},
   "outputs": [
    {
     "data": {
      "text/plain": [
       "'dkfma0799'"
      ]
     },
     "execution_count": 10,
     "metadata": {},
     "output_type": "execute_result"
    }
   ],
   "source": [
    "email=\"dkfma0799@gmail.com\"\n",
    "\n",
    "email.index(\"@\")\n",
    "\n",
    "email_idx=email.index(\"@\")\n",
    "\n",
    "email[:email_idx]\n",
    "\n"
   ]
  },
  {
   "cell_type": "code",
   "execution_count": 11,
   "id": "d390522e",
   "metadata": {},
   "outputs": [
    {
     "name": "stdout",
     "output_type": "stream",
     "text": [
      "True\n",
      "False\n"
     ]
    }
   ],
   "source": [
    "#in : lsit내에 해당 값이 존재(True, False)\n",
    "a=[1,2,3]\n",
    "print(3 in a)\n",
    "print(5 in a)\n"
   ]
  },
  {
   "cell_type": "code",
   "execution_count": 16,
   "id": "88f6098a",
   "metadata": {},
   "outputs": [
    {
     "name": "stdout",
     "output_type": "stream",
     "text": [
      "[2, 57, 23, 53, 16, 8, 24]\n",
      "[[2, 8, 16, 23, 24, 53, 57]]\n",
      "==================================================\n",
      "[57, 53, 24, 23, 16, 8, 2]\n"
     ]
    }
   ],
   "source": [
    "# sort() and sorted() : list 정렬\n",
    "# - sort() : 원본 list 정렬\n",
    "# - sorted() : list 복제 후 정렬\n",
    "\n",
    "a=[2,57,23,53,16,8,24]\n",
    "\n",
    "b=[sorted(a)] # 정렬 default : 오름차순\n",
    "\n",
    "print(a)\n",
    "print(b)\n",
    "print(\"=\"*50)\n",
    "\n",
    "a.sort(reverse=True)\n",
    "print(a)\n",
    "\n",
    "\n"
   ]
  },
  {
   "cell_type": "markdown",
   "id": "078e9718",
   "metadata": {},
   "source": [
    "### 2. tuple"
   ]
  },
  {
   "cell_type": "code",
   "execution_count": 20,
   "id": "237ee522",
   "metadata": {},
   "outputs": [
    {
     "name": "stdout",
     "output_type": "stream",
     "text": [
      "<class 'list'>\n",
      "<class 'tuple'>\n",
      "<class 'tuple'>\n",
      "[99, 2, 3]\n"
     ]
    }
   ],
   "source": [
    "a=[1,2,3] #list type\n",
    "b=(1,2,3) #tuple type\n",
    "c=5,6,7   #tuple type #괄호 생략가능\n",
    "\n",
    "print(type(a))\n",
    "print(type(b))\n",
    "print(type(c))\n",
    "\n",
    "a[0]=99\n",
    "print(a)\n",
    "\n",
    "# b[0]=99\n",
    "# print(b)\n",
    "# 오류남. 튜플은 변경 불가, 정렬 안 됨\n",
    "\n"
   ]
  },
  {
   "cell_type": "code",
   "execution_count": 21,
   "id": "fa9856d3",
   "metadata": {},
   "outputs": [
    {
     "name": "stdout",
     "output_type": "stream",
     "text": [
      "1 2 3\n"
     ]
    }
   ],
   "source": [
    "#packing and unpacking\n",
    "# -list 와 tuple 가능\n",
    "# -[], () -> 값을 묶음(packing)\n",
    "\n",
    "tuple_num=(1,2,3)\n",
    "a,b,c=tuple_num\n",
    "print(a,b,c)\n"
   ]
  },
  {
   "cell_type": "markdown",
   "id": "0f2145fb",
   "metadata": {},
   "source": [
    "### 연습문제\n",
    "\n",
    "변수 a와 b의 값을 교환하세요.\n"
   ]
  },
  {
   "cell_type": "code",
   "execution_count": 24,
   "id": "fa4e7672",
   "metadata": {},
   "outputs": [
    {
     "name": "stdout",
     "output_type": "stream",
     "text": [
      "9\n",
      "5\n"
     ]
    }
   ],
   "source": [
    "a=5\n",
    "b=9\n",
    "\n",
    "# 코드 작성\n",
    "# 1. 임시 변수 사용\n",
    "#temp = a\n",
    "#a=b\n",
    "#b=temp\n",
    "\n",
    "#2.tuple() 사용\n",
    "#packing unpacking 사용\n",
    "a, b= b, a\n",
    "\n",
    "print(a) #출력 9\n",
    "print(b) #출력 5\n",
    "\n"
   ]
  },
  {
   "cell_type": "markdown",
   "id": "c53d9b80",
   "metadata": {},
   "source": [
    "### 3. dict\n"
   ]
  },
  {
   "cell_type": "code",
   "execution_count": 25,
   "id": "1f25e258",
   "metadata": {},
   "outputs": [
    {
     "name": "stdout",
     "output_type": "stream",
     "text": [
      "ottawa\n",
      "9\n"
     ]
    }
   ],
   "source": [
    "dict_a={\"korea\" : \"seoul\",\n",
    "        \"canada\" : \"ottawa\",\n",
    "        \"usa\" : \"washington D.C\"}\n",
    "dict_b={0:1, 1:6, 2:4, 3:9}\n",
    "print(dict_a[\"canada\"])\n",
    "print(dict_b[3])\n"
   ]
  },
  {
   "cell_type": "code",
   "execution_count": 31,
   "id": "1e187a18",
   "metadata": {},
   "outputs": [
    {
     "name": "stdout",
     "output_type": "stream",
     "text": [
      "{'canada': 'ottawa',\n",
      " 'japan': 'kyoto',\n",
      " 'japan2': 'kyoto',\n",
      " 'korea': 'seoul',\n",
      " 'usa': 'washington D.C'}\n"
     ]
    }
   ],
   "source": [
    "import pprint\n",
    "dict_a={\"korea\" : \"seoul\",\n",
    "        \"canada\" : \"ottawa\",\n",
    "        \"usa\" : \"washington D.C\"}\n",
    "\n",
    "#값을 입력 -> key 값이 x(입력), key 값이 o(수정)\n",
    "dict_a[\"japan\"]=\"tokyo\"\n",
    "dict_a[\"japan\"]=\"kyoto\"\n",
    "dict_a[\"japan2\"]=\"kyoto\"\n",
    "\n",
    "# print(dict_a)\n",
    "pprint.pprint(dict_a)\n"
   ]
  },
  {
   "cell_type": "code",
   "execution_count": 33,
   "id": "7a48d268",
   "metadata": {},
   "outputs": [
    {
     "name": "stdout",
     "output_type": "stream",
     "text": [
      "{'a': 9, 'b': 4, 'e': 5}\n"
     ]
    }
   ],
   "source": [
    "#update() : dict와 dict 병합\n",
    "a={\n",
    "    \"a\" : 1,\n",
    "    \"b\" : 2\n",
    "}\n",
    "\n",
    "b={\n",
    "    \"a\" : 9,\n",
    "    \"b\" : 4,\n",
    "    \"e\" : 5\n",
    "}\n",
    "\n",
    "a.update(b)\n",
    "print(a)\n"
   ]
  },
  {
   "cell_type": "code",
   "execution_count": 34,
   "id": "77294791",
   "metadata": {},
   "outputs": [
    {
     "name": "stdout",
     "output_type": "stream",
     "text": [
      "{'b': 4, 'e': 5}\n",
      "9\n"
     ]
    }
   ],
   "source": [
    "# pop() : dict 항목 삭제\n",
    "\n",
    "c = a.pop(\"a\")\n",
    "\n",
    "print(a)\n",
    "print(c)\n"
   ]
  },
  {
   "cell_type": "code",
   "execution_count": 36,
   "id": "2343a7cb",
   "metadata": {},
   "outputs": [
    {
     "name": "stdout",
     "output_type": "stream",
     "text": [
      "5\n",
      "None\n"
     ]
    }
   ],
   "source": [
    "# 값 접근\n",
    "print(a[\"e\"])\n",
    "# print(a[\"f\"])\n",
    "print(a.get(\"f\"))\n"
   ]
  },
  {
   "cell_type": "code",
   "execution_count": 37,
   "id": "866f3115",
   "metadata": {},
   "outputs": [
    {
     "name": "stdout",
     "output_type": "stream",
     "text": [
      "True\n"
     ]
    }
   ],
   "source": [
    "# in\n",
    "print(\"b\" in a)\n"
   ]
  },
  {
   "cell_type": "code",
   "execution_count": 38,
   "id": "93bb6d62",
   "metadata": {},
   "outputs": [
    {
     "name": "stdout",
     "output_type": "stream",
     "text": [
      "{'b': 4, 'e': 5}\n",
      "{}\n"
     ]
    }
   ],
   "source": [
    "#clear(): dict 초기화\n",
    "print(a)\n",
    "a.clear()\n",
    "print(a)\n"
   ]
  },
  {
   "cell_type": "code",
   "execution_count": null,
   "id": "1983d14f",
   "metadata": {},
   "outputs": [],
   "source": []
  }
 ],
 "metadata": {
  "kernelspec": {
   "display_name": "Python 3 (ipykernel)",
   "language": "python",
   "name": "python3"
  },
  "language_info": {
   "codemirror_mode": {
    "name": "ipython",
    "version": 3
   },
   "file_extension": ".py",
   "mimetype": "text/x-python",
   "name": "python",
   "nbconvert_exporter": "python",
   "pygments_lexer": "ipython3",
   "version": "3.9.7"
  }
 },
 "nbformat": 4,
 "nbformat_minor": 5
}
